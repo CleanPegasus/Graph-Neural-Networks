{
  "nbformat": 4,
  "nbformat_minor": 0,
  "metadata": {
    "colab": {
      "name": "Graph Classification.ipynb",
      "provenance": [],
      "authorship_tag": "ABX9TyOBkyCXnyWCUwKMIWi8tj4Y"
    },
    "kernelspec": {
      "name": "python3",
      "display_name": "Python 3"
    }
  },
  "cells": [
    {
      "cell_type": "code",
      "metadata": {
        "colab": {
          "base_uri": "https://localhost:8080/"
        },
        "id": "V267JJ-jijoY",
        "outputId": "89d9f44c-5df1-4f12-f5cb-ba8b9aa56ea3"
      },
      "source": [
        "!pip install -q torch-scatter -f https://pytorch-geometric.com/whl/torch-1.7.0+cu101.html\n",
        "!pip install -q torch-sparse -f https://pytorch-geometric.com/whl/torch-1.7.0+cu101.html\n",
        "!pip install -q torch-geometric"
      ],
      "execution_count": 1,
      "outputs": [
        {
          "output_type": "stream",
          "text": [
            "\u001b[K     |████████████████████████████████| 11.9MB 8.3MB/s \n",
            "\u001b[K     |████████████████████████████████| 24.3MB 88.0MB/s \n",
            "\u001b[K     |████████████████████████████████| 194kB 8.6MB/s \n",
            "\u001b[K     |████████████████████████████████| 235kB 15.6MB/s \n",
            "\u001b[K     |████████████████████████████████| 2.2MB 19.0MB/s \n",
            "\u001b[K     |████████████████████████████████| 51kB 801kB/s \n",
            "\u001b[?25h  Building wheel for torch-geometric (setup.py) ... \u001b[?25l\u001b[?25hdone\n"
          ],
          "name": "stdout"
        }
      ]
    },
    {
      "cell_type": "code",
      "metadata": {
        "id": "3_yrFNYMitAL"
      },
      "source": [
        "import torch\n",
        "from torch_geometric.datasets import TUDataset"
      ],
      "execution_count": 2,
      "outputs": []
    },
    {
      "cell_type": "code",
      "metadata": {
        "colab": {
          "base_uri": "https://localhost:8080/"
        },
        "id": "sC9tsb5MjACi",
        "outputId": "de94c5c6-fef9-4cab-c3f1-88d4853e7975"
      },
      "source": [
        "dataset = TUDataset(root = 'data/TUDataset', name = 'MUTAG')"
      ],
      "execution_count": 3,
      "outputs": [
        {
          "output_type": "stream",
          "text": [
            "Downloading https://www.chrsmrrs.com/graphkerneldatasets/MUTAG.zip\n",
            "Extracting data/TUDataset/MUTAG/MUTAG.zip\n",
            "Processing...\n",
            "Done!\n"
          ],
          "name": "stdout"
        }
      ]
    },
    {
      "cell_type": "code",
      "metadata": {
        "id": "PM_CsmN6jIHq"
      },
      "source": [
        ""
      ],
      "execution_count": null,
      "outputs": []
    }
  ]
}