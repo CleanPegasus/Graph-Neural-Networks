{
  "nbformat": 4,
  "nbformat_minor": 0,
  "metadata": {
    "colab": {
      "name": "Graph Classification.ipynb",
      "provenance": [],
      "authorship_tag": "ABX9TyMumIyKz1v/KRaKTsuxP84x"
    },
    "kernelspec": {
      "name": "python3",
      "display_name": "Python 3"
    }
  },
  "cells": [
    {
      "cell_type": "code",
      "metadata": {
        "colab": {
          "base_uri": "https://localhost:8080/"
        },
        "id": "V267JJ-jijoY",
        "outputId": "89d9f44c-5df1-4f12-f5cb-ba8b9aa56ea3"
      },
      "source": [
        "!pip install -q torch-scatter -f https://pytorch-geometric.com/whl/torch-1.7.0+cu101.html\n",
        "!pip install -q torch-sparse -f https://pytorch-geometric.com/whl/torch-1.7.0+cu101.html\n",
        "!pip install -q torch-geometric"
      ],
      "execution_count": 1,
      "outputs": [
        {
          "output_type": "stream",
          "text": [
            "\u001b[K     |████████████████████████████████| 11.9MB 8.3MB/s \n",
            "\u001b[K     |████████████████████████████████| 24.3MB 88.0MB/s \n",
            "\u001b[K     |████████████████████████████████| 194kB 8.6MB/s \n",
            "\u001b[K     |████████████████████████████████| 235kB 15.6MB/s \n",
            "\u001b[K     |████████████████████████████████| 2.2MB 19.0MB/s \n",
            "\u001b[K     |████████████████████████████████| 51kB 801kB/s \n",
            "\u001b[?25h  Building wheel for torch-geometric (setup.py) ... \u001b[?25l\u001b[?25hdone\n"
          ],
          "name": "stdout"
        }
      ]
    },
    {
      "cell_type": "code",
      "metadata": {
        "id": "3_yrFNYMitAL"
      },
      "source": [
        "import torch\n",
        "from torch_geometric.datasets import TUDataset\n",
        "from torch_geometric.data import DataLoader"
      ],
      "execution_count": 7,
      "outputs": []
    },
    {
      "cell_type": "code",
      "metadata": {
        "colab": {
          "base_uri": "https://localhost:8080/"
        },
        "id": "sC9tsb5MjACi",
        "outputId": "de94c5c6-fef9-4cab-c3f1-88d4853e7975"
      },
      "source": [
        "dataset = TUDataset(root = 'data/TUDataset', name = 'MUTAG')"
      ],
      "execution_count": 3,
      "outputs": [
        {
          "output_type": "stream",
          "text": [
            "Downloading https://www.chrsmrrs.com/graphkerneldatasets/MUTAG.zip\n",
            "Extracting data/TUDataset/MUTAG/MUTAG.zip\n",
            "Processing...\n",
            "Done!\n"
          ],
          "name": "stdout"
        }
      ]
    },
    {
      "cell_type": "code",
      "metadata": {
        "colab": {
          "base_uri": "https://localhost:8080/"
        },
        "id": "PM_CsmN6jIHq",
        "outputId": "0072fa42-324d-453a-a321-31e22bf33ee4"
      },
      "source": [
        "print(f'Dataset: {dataset}:')\n",
        "print('====================')\n",
        "print(f'Number of graphs: {len(dataset)}')\n",
        "print(f'Number of features: {dataset.num_features}')\n",
        "print(f'Number of classes: {dataset.num_classes}')\n",
        "\n",
        "data = dataset[0]\n",
        "\n",
        "print()\n",
        "print(data)\n",
        "print('=============================================================')\n",
        "\n",
        "print(f'Number of nodes: {data.num_nodes}')\n",
        "print(f'Number of edges: {data.num_edges}')\n",
        "print(f'Average node degree: {data.num_edges / data.num_nodes:.2f}')\n",
        "print(f'Contains isolated nodes: {data.contains_isolated_nodes()}')\n",
        "print(f'Contains self-loops: {data.contains_self_loops()}')\n",
        "print(f'Is undirected: {data.is_undirected()}')"
      ],
      "execution_count": 4,
      "outputs": [
        {
          "output_type": "stream",
          "text": [
            "Dataset: MUTAG(188):\n",
            "====================\n",
            "Number of graphs: 188\n",
            "Number of features: 7\n",
            "Number of classes: 2\n",
            "\n",
            "Data(edge_attr=[38, 4], edge_index=[2, 38], x=[17, 7], y=[1])\n",
            "=============================================================\n",
            "Number of nodes: 17\n",
            "Number of edges: 38\n",
            "Average node degree: 2.24\n",
            "Contains isolated nodes: False\n",
            "Contains self-loops: False\n",
            "Is undirected: True\n"
          ],
          "name": "stdout"
        }
      ]
    },
    {
      "cell_type": "code",
      "metadata": {
        "colab": {
          "base_uri": "https://localhost:8080/"
        },
        "id": "tjpZHK7-um-w",
        "outputId": "0b7064c7-242c-4a30-b825-407c0461b44c"
      },
      "source": [
        "torch.manual_seed(101010)\n",
        "dataset = dataset.shuffle()\n",
        "\n",
        "train_dataset = dataset[:150]\n",
        "test_dataset = dataset[150:]\n",
        "\n",
        "print(f'Number of training graphs: {len(train_dataset)}')\n",
        "print(f'Number of test graphs: {len(test_dataset)}')"
      ],
      "execution_count": 6,
      "outputs": [
        {
          "output_type": "stream",
          "text": [
            "Number of training graphs: 150\n",
            "Number of test graphs: 38\n"
          ],
          "name": "stdout"
        }
      ]
    },
    {
      "cell_type": "code",
      "metadata": {
        "id": "FHrS_zbSwLfY"
      },
      "source": [
        "train_loader = DataLoader(train_dataset, batch_size = 64, shuffle = True)\n",
        "test_loader = DataLoader(test_dataset, batch_size = 64, shuffle = False)"
      ],
      "execution_count": 8,
      "outputs": []
    },
    {
      "cell_type": "code",
      "metadata": {
        "colab": {
          "base_uri": "https://localhost:8080/"
        },
        "id": "9xtSyxtjxwzT",
        "outputId": "c6e0de86-54e8-4536-aa5a-1c3929a758ce"
      },
      "source": [
        "for step, data in enumerate(train_loader):\n",
        "  print(f\"Step {step + 1}:\")\n",
        "  print(\"----------------\")\n",
        "  print(f\"Number of graphs in the current batch: {data.num_graphs}\")\n",
        "  print(data)\n",
        "  print()"
      ],
      "execution_count": 9,
      "outputs": [
        {
          "output_type": "stream",
          "text": [
            "Step 1:\n",
            "----------------\n",
            "Number of graphs in the current batch: 64\n",
            "Batch(batch=[1065], edge_attr=[2342, 4], edge_index=[2, 2342], x=[1065, 7], y=[64])\n",
            "\n",
            "Step 2:\n",
            "----------------\n",
            "Number of graphs in the current batch: 64\n",
            "Batch(batch=[1201], edge_attr=[2676, 4], edge_index=[2, 2676], x=[1201, 7], y=[64])\n",
            "\n",
            "Step 3:\n",
            "----------------\n",
            "Number of graphs in the current batch: 22\n",
            "Batch(batch=[429], edge_attr=[942, 4], edge_index=[2, 942], x=[429, 7], y=[22])\n",
            "\n"
          ],
          "name": "stdout"
        }
      ]
    },
    {
      "cell_type": "code",
      "metadata": {
        "id": "lE9F619VyaHr"
      },
      "source": [
        ""
      ],
      "execution_count": null,
      "outputs": []
    }
  ]
}