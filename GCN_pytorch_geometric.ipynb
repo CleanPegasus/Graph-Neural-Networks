{
  "nbformat": 4,
  "nbformat_minor": 0,
  "metadata": {
    "colab": {
      "name": "GCN_pytorch_geometric.ipynb",
      "provenance": [],
      "authorship_tag": "ABX9TyOuDuVu1tXlwrTaz1bCpoZ+"
    },
    "kernelspec": {
      "name": "python3",
      "display_name": "Python 3"
    },
    "accelerator": "GPU"
  },
  "cells": [
    {
      "cell_type": "markdown",
      "metadata": {
        "id": "KvEZrwNH7P73"
      },
      "source": [
        "# Node Classification in Knowledge Graphs - Cora Dataset"
      ]
    },
    {
      "cell_type": "markdown",
      "metadata": {
        "id": "9HaEc6FB8EAg"
      },
      "source": [
        "## Installation of Pytorch Geometric"
      ]
    },
    {
      "cell_type": "code",
      "metadata": {
        "id": "2jhXAMrV7RpY"
      },
      "source": [
        "!python -c \"import torch; print(torch.__version__)\""
      ],
      "execution_count": null,
      "outputs": []
    },
    {
      "cell_type": "code",
      "metadata": {
        "id": "tEkdiE9G66h_"
      },
      "source": [
        "!python -c \"import torch; print(torch.version.cuda)\""
      ],
      "execution_count": null,
      "outputs": []
    },
    {
      "cell_type": "code",
      "metadata": {
        "id": "hdWkDf0I7nup"
      },
      "source": [
        "!pip3 install --no-index torch-scatter -f https://pytorch-geometric.com/whl/torch-1.7.0+cu101.html\n",
        "!pip3 install --no-index torch-sparse -f https://pytorch-geometric.com/whl/torch-1.7.0+cu101.html\n",
        "!pip3 install --no-index torch-cluster -f https://pytorch-geometric.com/whl/torch-1.7.0+cu101.html\n",
        "!pip3 install --no-index torch-spline-conv -f https://pytorch-geometric.com/whl/torch-1.7.0+cu101.html\n",
        "!pip3 install torch-geometric"
      ],
      "execution_count": null,
      "outputs": []
    },
    {
      "cell_type": "markdown",
      "metadata": {
        "id": "Q2XYBmUQ8Plz"
      },
      "source": [
        "## Import and visualize the dataset"
      ]
    },
    {
      "cell_type": "code",
      "metadata": {
        "id": "KxDi4uU87-5c"
      },
      "source": [
        "from torch_geometric.datasets import Planetoid\n",
        "from torch_geometric.transforms import NormalizeFeatures"
      ],
      "execution_count": 1,
      "outputs": []
    },
    {
      "cell_type": "code",
      "metadata": {
        "id": "xifRQdyN8f8f"
      },
      "source": [
        "dataset = Planetoid(root = 'data/Planetoid', name = 'Cora', transform = NormalizeFeatures())"
      ],
      "execution_count": 2,
      "outputs": []
    },
    {
      "cell_type": "code",
      "metadata": {
        "colab": {
          "base_uri": "https://localhost:8080/"
        },
        "id": "cScYk07g8oOG",
        "outputId": "335f5ac3-a48d-4923-81c4-77a3df539922"
      },
      "source": [
        "print(f\"NUmber of graphs: {len(dataset)}\")\n",
        "print(f\"Number of features: {dataset.num_features}\")\n",
        "print(f\"NUmber of classes: {dataset.num_classes}\")\n",
        "print(\"---------------------------------------\")\n",
        "\n",
        "data = dataset[0]\n",
        "\n",
        "print(data)\n",
        "print(f\"Number of nodes: {data.num_nodes}\")\n",
        "print(f\"Number of edges: {data.num_edges}\")\n",
        "print(f\"Number of training nodes: {data.train_mask.sum()}\")\n",
        "print(f\"Training node label rate: {int(data.train_mask.sum()) / data.num_nodes:.2f}\")\n",
        "print(f\"Is undirected: {data.is_undirected()}\")"
      ],
      "execution_count": 3,
      "outputs": [
        {
          "output_type": "stream",
          "text": [
            "NUmber of graphs: 1\n",
            "Number of features: 1433\n",
            "NUmber of classes: 7\n",
            "---------------------------------------\n",
            "Data(edge_index=[2, 10556], test_mask=[2708], train_mask=[2708], val_mask=[2708], x=[2708, 1433], y=[2708])\n",
            "Number of nodes: 2708\n",
            "Number of edges: 10556\n",
            "Number of training nodes: 140\n",
            "Training node label rate: 0.05\n",
            "Is undirected: True\n"
          ],
          "name": "stdout"
        }
      ]
    },
    {
      "cell_type": "markdown",
      "metadata": {
        "id": "fkO9xBADC8um"
      },
      "source": [
        "## Model Initialization"
      ]
    },
    {
      "cell_type": "code",
      "metadata": {
        "id": "TMgiRAk9-7Ff"
      },
      "source": [
        "import torch\n",
        "from torch.nn import Linear\n",
        "import torch.nn.functional as F\n",
        "from torch_geometric.nn import GCNConv"
      ],
      "execution_count": 4,
      "outputs": []
    },
    {
      "cell_type": "code",
      "metadata": {
        "id": "fCAOwMxqAbeH"
      },
      "source": [
        "class GCN(torch.nn.Module):\n",
        "  def __init__(self, hidden_channels):\n",
        "\n",
        "    super(GCN, self).__init__()\n",
        "    torch.manual_seed(10)\n",
        "\n",
        "    # Initialize GCN layers\n",
        "    self.conv1 = GCNConv(dataset.num_features, hidden_channels)\n",
        "    self.conv2 = GCNConv(hidden_channels, hidden_channels)\n",
        "    self.out = Linear(hidden_channels, dataset.num_classes)\n",
        "\n",
        "  def forward(self, x, edge_index):\n",
        "\n",
        "    # First message passing layer\n",
        "    x = self.conv1(x, edge_index)\n",
        "    x = x.relu()\n",
        "    x = F.dropout(x, p = 0.2, training = self.training)\n",
        "\n",
        "    # Second message passing layer\n",
        "    x = self.conv2(x, edge_index)\n",
        "    x = x.relu()\n",
        "    x = F.dropout(x, p = 0.2, training = self.training)\n",
        "\n",
        "    # Output Layer\n",
        "    x = F.softmax(self.out(x), dim = 1)\n",
        "\n",
        "    return x\n"
      ],
      "execution_count": 11,
      "outputs": []
    },
    {
      "cell_type": "code",
      "metadata": {
        "colab": {
          "base_uri": "https://localhost:8080/"
        },
        "id": "Y9XzwzHaCiJB",
        "outputId": "e2b12fea-7dae-4657-bdcd-c612b292d3d1"
      },
      "source": [
        "model = GCN(hidden_channels = 16)\n",
        "print(model)"
      ],
      "execution_count": 12,
      "outputs": [
        {
          "output_type": "stream",
          "text": [
            "GCN(\n",
            "  (conv1): GCNConv(1433, 16)\n",
            "  (conv2): GCNConv(16, 16)\n",
            "  (out): Linear(in_features=16, out_features=7, bias=True)\n",
            ")\n"
          ],
          "name": "stdout"
        }
      ]
    },
    {
      "cell_type": "markdown",
      "metadata": {
        "id": "d7rwVcS6DC_5"
      },
      "source": [
        "## Model Training"
      ]
    },
    {
      "cell_type": "code",
      "metadata": {
        "id": "QO8ZKXa3Cmxp"
      },
      "source": [
        "model = GCN(hidden_channels = 16)\n",
        "\n",
        "device = torch.device('cuda:0' if torch.cuda.is_available() else \"cpu\")\n",
        "model = model.to(device)\n",
        "data = data.to(device)\n",
        "\n",
        "lr = 0.01\n",
        "decay = 5e-4\n",
        "optimizer = torch.optim.Adam(model.parameters(),\n",
        "                             lr = lr,\n",
        "                             weight_decay = decay)\n",
        "\n",
        "CrossEntropyLoss = torch.nn.CrossEntropyLoss()"
      ],
      "execution_count": 13,
      "outputs": []
    },
    {
      "cell_type": "code",
      "metadata": {
        "id": "buxfGf8HDxn7"
      },
      "source": [
        "def train():\n",
        "\n",
        "  model.train()\n",
        "  optimizer.zero_grad()\n",
        "  out = model(data.x, data.edge_index)\n",
        "  loss = CrossEntropyLoss(out[data.train_mask], data.y[data.train_mask])\n",
        "  loss.backward()\n",
        "  optimizer.step()\n",
        "\n",
        "  return loss"
      ],
      "execution_count": 14,
      "outputs": []
    },
    {
      "cell_type": "code",
      "metadata": {
        "id": "mvFou-Q7Jh5e"
      },
      "source": [
        "def test():\n",
        "\n",
        "  model.eval()\n",
        "  out = model(data.x, data.edge_index)\n",
        "  pred = out.argmax(dim = 1)\n",
        "  test_correct = pred[data.test_mask] == data.y[data.test_mask]\n",
        "  test_acc = int(test_correct.sum()) / int(data.test_mask.sum())\n",
        "\n",
        "  return test_acc"
      ],
      "execution_count": 15,
      "outputs": []
    },
    {
      "cell_type": "code",
      "metadata": {
        "colab": {
          "base_uri": "https://localhost:8080/"
        },
        "id": "TbDvB3omKnFU",
        "outputId": "a6a13a8c-cd0b-4d78-8bdd-19a9d2355252"
      },
      "source": [
        "losses = []\n",
        "for epoch in range(1001):\n",
        "  loss = train()\n",
        "  losses.append(loss)\n",
        "  if epoch % 100 == 0:\n",
        "    print(f\"Epoch: {epoch}, Loss: {loss:.4f}\")"
      ],
      "execution_count": 16,
      "outputs": [
        {
          "output_type": "stream",
          "text": [
            "Epoch: 0, Loss: 1.9460\n",
            "Epoch: 100, Loss: 1.5360\n",
            "Epoch: 200, Loss: 1.2956\n",
            "Epoch: 300, Loss: 1.2558\n",
            "Epoch: 400, Loss: 1.2400\n",
            "Epoch: 500, Loss: 1.2296\n",
            "Epoch: 600, Loss: 1.2422\n",
            "Epoch: 700, Loss: 1.2405\n",
            "Epoch: 800, Loss: 1.2355\n",
            "Epoch: 900, Loss: 1.2274\n",
            "Epoch: 1000, Loss: 1.2293\n"
          ],
          "name": "stdout"
        }
      ]
    },
    {
      "cell_type": "code",
      "metadata": {
        "colab": {
          "base_uri": "https://localhost:8080/"
        },
        "id": "LwB4Zm-3K9ip",
        "outputId": "1ffaf80e-6192-4245-a4d2-8414734f8b5a"
      },
      "source": [
        "test_acc = test()\n",
        "print(f\"Test Accuracy: {test_acc:.4f}\")"
      ],
      "execution_count": 18,
      "outputs": [
        {
          "output_type": "stream",
          "text": [
            "Test Accuracy: 0.7520\n"
          ],
          "name": "stdout"
        }
      ]
    },
    {
      "cell_type": "code",
      "metadata": {
        "id": "Vj2xuXHwMLa8"
      },
      "source": [
        ""
      ],
      "execution_count": null,
      "outputs": []
    }
  ]
}