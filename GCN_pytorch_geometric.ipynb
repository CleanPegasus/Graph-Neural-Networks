{
  "nbformat": 4,
  "nbformat_minor": 0,
  "metadata": {
    "colab": {
      "name": "GCN_pytorch_geometric.ipynb",
      "provenance": [],
      "authorship_tag": "ABX9TyNiwdSHEESpbZITner8FVyK"
    },
    "kernelspec": {
      "name": "python3",
      "display_name": "Python 3"
    },
    "accelerator": "GPU"
  },
  "cells": [
    {
      "cell_type": "markdown",
      "metadata": {
        "id": "KvEZrwNH7P73"
      },
      "source": [
        "# Node Classification in Knowledge Graphs - Cora Dataset"
      ]
    },
    {
      "cell_type": "markdown",
      "metadata": {
        "id": "9HaEc6FB8EAg"
      },
      "source": [
        "## Installation of Pytorch Geometric"
      ]
    },
    {
      "cell_type": "code",
      "metadata": {
        "id": "2jhXAMrV7RpY"
      },
      "source": [
        "!python -c \"import torch; print(torch.__version__)\""
      ],
      "execution_count": null,
      "outputs": []
    },
    {
      "cell_type": "code",
      "metadata": {
        "id": "tEkdiE9G66h_"
      },
      "source": [
        "!python -c \"import torch; print(torch.version.cuda)\""
      ],
      "execution_count": null,
      "outputs": []
    },
    {
      "cell_type": "code",
      "metadata": {
        "id": "hdWkDf0I7nup"
      },
      "source": [
        "!pip3 install --no-index torch-scatter -f https://pytorch-geometric.com/whl/torch-1.7.0+cu101.html\n",
        "!pip3 install --no-index torch-sparse -f https://pytorch-geometric.com/whl/torch-1.7.0+cu101.html\n",
        "!pip3 install --no-index torch-cluster -f https://pytorch-geometric.com/whl/torch-1.7.0+cu101.html\n",
        "!pip3 install --no-index torch-spline-conv -f https://pytorch-geometric.com/whl/torch-1.7.0+cu101.html\n",
        "!pip3 install torch-geometric"
      ],
      "execution_count": null,
      "outputs": []
    },
    {
      "cell_type": "markdown",
      "metadata": {
        "id": "Q2XYBmUQ8Plz"
      },
      "source": [
        "## Import and visualize the dataset"
      ]
    },
    {
      "cell_type": "code",
      "metadata": {
        "id": "KxDi4uU87-5c"
      },
      "source": [
        "from torch_geometric.datasets import Planetoid\n",
        "from torch_geometric.transforms import NormalizeFeatures"
      ],
      "execution_count": 5,
      "outputs": []
    },
    {
      "cell_type": "code",
      "metadata": {
        "colab": {
          "base_uri": "https://localhost:8080/"
        },
        "id": "xifRQdyN8f8f",
        "outputId": "f961e1a4-cafc-4504-883b-151cecb97436"
      },
      "source": [
        "dataset = Planetoid(root = 'data/Planetoid', name = 'Cora', transform = NormalizeFeatures())"
      ],
      "execution_count": 6,
      "outputs": [
        {
          "output_type": "stream",
          "text": [
            "Downloading https://github.com/kimiyoung/planetoid/raw/master/data/ind.cora.x\n",
            "Downloading https://github.com/kimiyoung/planetoid/raw/master/data/ind.cora.tx\n",
            "Downloading https://github.com/kimiyoung/planetoid/raw/master/data/ind.cora.allx\n",
            "Downloading https://github.com/kimiyoung/planetoid/raw/master/data/ind.cora.y\n",
            "Downloading https://github.com/kimiyoung/planetoid/raw/master/data/ind.cora.ty\n",
            "Downloading https://github.com/kimiyoung/planetoid/raw/master/data/ind.cora.ally\n",
            "Downloading https://github.com/kimiyoung/planetoid/raw/master/data/ind.cora.graph\n",
            "Downloading https://github.com/kimiyoung/planetoid/raw/master/data/ind.cora.test.index\n",
            "Processing...\n",
            "Done!\n"
          ],
          "name": "stdout"
        }
      ]
    },
    {
      "cell_type": "code",
      "metadata": {
        "colab": {
          "base_uri": "https://localhost:8080/"
        },
        "id": "cScYk07g8oOG",
        "outputId": "d43d7936-79d1-485e-eeb1-bb0afd708072"
      },
      "source": [
        "print(f\"NUmber of graphs: {len(dataset)}\")\n",
        "print(f\"Number of features: {dataset.num_features}\")\n",
        "print(f\"NUmber of classes: {dataset.num_classes}\")\n",
        "print(\"---------------------------------------\")\n",
        "\n",
        "data = dataset[0]\n",
        "\n",
        "print(data)\n",
        "print(f\"Number of nodes: {data.num_nodes}\")\n",
        "print(f\"Number of edges: {data.num_edges}\")\n",
        "print(f\"Number of training nodes: {data.train_mask.sum()}\")\n",
        "print(f\"Training node label rate: {int(data.train_mask.sum()) / data.num_nodes:.2f}\")\n",
        "print(f\"Is undirected: {data.is_undirected()}\")"
      ],
      "execution_count": 10,
      "outputs": [
        {
          "output_type": "stream",
          "text": [
            "NUmber of graphs: 1\n",
            "Number of features: 1433\n",
            "NUmber of classes: 7\n",
            "---------------------------------------\n",
            "Data(edge_index=[2, 10556], test_mask=[2708], train_mask=[2708], val_mask=[2708], x=[2708, 1433], y=[2708])\n",
            "Number of nodes: 2708\n",
            "Number of edges: 10556\n",
            "Number of training nodes: 140\n",
            "Training node label rate: 0.05\n",
            "Is undirected: True\n"
          ],
          "name": "stdout"
        }
      ]
    },
    {
      "cell_type": "code",
      "metadata": {
        "id": "TMgiRAk9-7Ff"
      },
      "source": [
        "import torch\n",
        "from torch.nn import Linear\n",
        "import torch.nn.functional as F\n",
        "from torch_geometric.nn import GCNConv"
      ],
      "execution_count": 11,
      "outputs": []
    },
    {
      "cell_type": "code",
      "metadata": {
        "id": "fCAOwMxqAbeH"
      },
      "source": [
        "class GCN(torch.nn.Module):\n",
        "  def __init__(self, hidden_channels):\n",
        "\n",
        "    super(GCN, self).__init__()\n",
        "    torch.manual_seed(10)\n",
        "\n",
        "    # Initialize GCN layers\n",
        "    self.conv1 = GCNConv(dataset.num_features, hidden_channels)\n",
        "    self.conv2 = GCNConv(hidden_channels, hidden_channels)\n",
        "    self.out = Linear(hidden_channels, dataset.num_classes)\n",
        "\n",
        "  def forward(self, x, edge_index):\n",
        "\n",
        "    # First message passing layer\n",
        "    x = self.conv1(x, edge_index)\n",
        "    x = x.relu()\n",
        "    x = F.dropout(x, p = 0.2, training = self.training)\n",
        "\n",
        "    # Second message passing layer\n",
        "    x = self.conv2(x, edge_index)\n",
        "    x = x.relu()\n",
        "    x = F.dropout(x, p = 0.2, training = self.training)\n"
      ],
      "execution_count": 12,
      "outputs": []
    },
    {
      "cell_type": "code",
      "metadata": {
        "colab": {
          "base_uri": "https://localhost:8080/"
        },
        "id": "Y9XzwzHaCiJB",
        "outputId": "96421a09-517c-4c36-cfc4-4c473be61541"
      },
      "source": [
        "model = GCN(hidden_channels = 16)\n",
        "print(model)"
      ],
      "execution_count": 13,
      "outputs": [
        {
          "output_type": "stream",
          "text": [
            "GCN(\n",
            "  (conv1): GCNConv(1433, 16)\n",
            "  (conv2): GCNConv(16, 16)\n",
            "  (out): Linear(in_features=16, out_features=7, bias=True)\n",
            ")\n"
          ],
          "name": "stdout"
        }
      ]
    },
    {
      "cell_type": "code",
      "metadata": {
        "id": "QO8ZKXa3Cmxp"
      },
      "source": [
        ""
      ],
      "execution_count": null,
      "outputs": []
    }
  ]
}